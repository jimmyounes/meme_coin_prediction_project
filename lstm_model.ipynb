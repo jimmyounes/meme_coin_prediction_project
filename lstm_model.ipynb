{
 "cells": [
  {
   "cell_type": "code",
   "execution_count": 7,
   "metadata": {},
   "outputs": [
    {
     "name": "stdout",
     "output_type": "stream",
     "text": [
      "number of token did a x3 126\n",
      "number of token didn't a x3 172\n"
     ]
    }
   ],
   "source": [
    "import pandas as pd \n",
    "import os \n",
    "yes=[]\n",
    "no=[]\n",
    "\n",
    "for filename in os.listdir(\"./clean_database\"):\n",
    "        did_it=False\n",
    "        filepath = os.path.join(\"./clean_database\", filename)\n",
    "        dataframe=pd.read_csv(filepath,sep=\"\\t\") \n",
    "        \n",
    "        price_at_one_hour_left = dataframe.iloc[29][\"token_price_usd\"] \n",
    "        \n",
    "        for index in range(30, len(dataframe)):\n",
    "            price_after_one_hour = dataframe.iloc[index][\"token_price_usd\"]\n",
    "            if((price_at_one_hour_left/price_after_one_hour)>=2):\n",
    "                  \n",
    "                  yes.append(dataframe.iloc[index][\"token_address\"])\n",
    "                  did_it=True\n",
    "                  break\n",
    "        if(did_it==False):\n",
    "              no.append(dataframe.iloc[29][\"token_address\"])   \n",
    "\n",
    "print(\"number of token did a x3\",len(yes))\n",
    "print(\"number of token didn't a x3\",len(no))"
   ]
  },
  {
   "cell_type": "code",
   "execution_count": null,
   "metadata": {},
   "outputs": [],
   "source": []
  },
  {
   "cell_type": "code",
   "execution_count": 8,
   "metadata": {},
   "outputs": [],
   "source": [
    "X=[]\n",
    "Y=[]\n",
    "for filename in os.listdir(\"./clean_database\"):\n",
    "        did_it=False\n",
    "        filepath = os.path.join(\"./clean_database\", filename)\n",
    "        dataframe=pd.read_csv(filepath,sep=\"\\t\") \n",
    "        sample= []\n",
    "        token_adress= dataframe.iloc[29][\"token_address\"]\n",
    "\n",
    "        for index in range(0, 30):\n",
    "                sample.append([dataframe.iloc[index][\"token_m5_buys\"]/300,dataframe.iloc[index][\"token_m5_sells\"]/300,dataframe.iloc[index][\"token_h1_buys\"]/500,dataframe.iloc[index][\"token_h1_sells\"]/500])\n",
    "        X.append(sample)\n",
    "        if(token_adress in yes):\n",
    "                Y.append(1)\n",
    "        else : \n",
    "                Y.append(0)  "
   ]
  },
  {
   "cell_type": "code",
   "execution_count": 13,
   "metadata": {},
   "outputs": [],
   "source": [
    "from sklearn.model_selection import train_test_split\n",
    "\n",
    "# Assuming X_seqs is your sequence data and y_labels is the corresponding labels\n",
    "# X_seqs is a list of sequences\n",
    "# y_labels is a list of corresponding labels (1 for positive, 0 for negative)\n",
    "\n",
    "# Split the data into training and test sets with stratified sampling\n",
    "X_train_seqs, X_test_seqs, y_train_labels, y_test_labels = train_test_split(X, Y, test_size=0.2, stratify=Y, random_state=42)\n",
    "\n",
    "# Print the class distribution in the training and test sets\n",
    "print(\"Training set class distribution:\")\n",
    "print(\"Label 1:\", sum(y_train_labels), \", Label 0:\", len(y_train_labels) - sum(y_train_labels))\n",
    "print(\"Test set class distribution:\")\n",
    "print(\"Label 1:\", sum(y_test_labels), \", Label 0:\", len(y_test_labels) - sum(y_test_labels))\n"
   ]
  },
  {
   "cell_type": "code",
   "execution_count": 14,
   "metadata": {},
   "outputs": [
    {
     "name": "stdout",
     "output_type": "stream",
     "text": [
      "Epoch 1/20\n",
      "8/8 [==============================] - 2s 20ms/step - loss: 0.7108 - accuracy: 0.5252\n",
      "Epoch 2/20\n",
      "8/8 [==============================] - 0s 20ms/step - loss: 0.6890 - accuracy: 0.5840\n",
      "Epoch 3/20\n",
      "8/8 [==============================] - 0s 20ms/step - loss: 0.6708 - accuracy: 0.6008\n",
      "Epoch 4/20\n",
      "8/8 [==============================] - 0s 20ms/step - loss: 0.6646 - accuracy: 0.6050\n",
      "Epoch 5/20\n",
      "8/8 [==============================] - 0s 19ms/step - loss: 0.6587 - accuracy: 0.5966\n",
      "Epoch 6/20\n",
      "8/8 [==============================] - 0s 19ms/step - loss: 0.6514 - accuracy: 0.5924\n",
      "Epoch 7/20\n",
      "8/8 [==============================] - 0s 20ms/step - loss: 0.6420 - accuracy: 0.6218\n",
      "Epoch 8/20\n",
      "8/8 [==============================] - 0s 21ms/step - loss: 0.6500 - accuracy: 0.5840\n",
      "Epoch 9/20\n",
      "8/8 [==============================] - 0s 22ms/step - loss: 0.6433 - accuracy: 0.6471\n",
      "Epoch 10/20\n",
      "8/8 [==============================] - 0s 20ms/step - loss: 0.6364 - accuracy: 0.6008\n",
      "Epoch 11/20\n",
      "8/8 [==============================] - 0s 23ms/step - loss: 0.6274 - accuracy: 0.6176\n",
      "Epoch 12/20\n",
      "8/8 [==============================] - 0s 20ms/step - loss: 0.6346 - accuracy: 0.5924\n",
      "Epoch 13/20\n",
      "8/8 [==============================] - 0s 20ms/step - loss: 0.6282 - accuracy: 0.6303\n",
      "Epoch 14/20\n",
      "8/8 [==============================] - 0s 21ms/step - loss: 0.6369 - accuracy: 0.5882\n",
      "Epoch 15/20\n",
      "8/8 [==============================] - 0s 20ms/step - loss: 0.6323 - accuracy: 0.6261\n",
      "Epoch 16/20\n",
      "8/8 [==============================] - 0s 20ms/step - loss: 0.6422 - accuracy: 0.5714\n",
      "Epoch 17/20\n",
      "8/8 [==============================] - 0s 22ms/step - loss: 0.6237 - accuracy: 0.6176\n",
      "Epoch 18/20\n",
      "8/8 [==============================] - 0s 22ms/step - loss: 0.6537 - accuracy: 0.6261\n",
      "Epoch 19/20\n",
      "8/8 [==============================] - 0s 47ms/step - loss: 0.6337 - accuracy: 0.6092\n",
      "Epoch 20/20\n",
      "8/8 [==============================] - 0s 44ms/step - loss: 0.6373 - accuracy: 0.6134\n"
     ]
    }
   ],
   "source": [
    "import numpy as np\n",
    "import tensorflow as tf\n",
    "from tensorflow.keras.models import Sequential\n",
    "from tensorflow.keras.layers import LSTM, Dropout, Dense\n",
    "\n",
    "# Convert X to a numpy array\n",
    "X_arr = np.array(X_train_seqs)\n",
    "\n",
    "# Convert y to a numpy array\n",
    "y_arr = np.array(y_train_labels)\n",
    "\n",
    "# Define model architecture for binary classification\n",
    "model = Sequential()\n",
    "model.add(LSTM(units=150, input_shape=(30,len(X[0][0])), return_sequences=True))\n",
    "model.add(Dropout(0.2))\n",
    "model.add(LSTM(units=100, return_sequences=False))\n",
    "model.add(Dropout(0.2))\n",
    "\n",
    "model.add(Dense(units=1, activation='sigmoid'))  # Use sigmoid activation for binary classification\n",
    "\n",
    "# Compile the model\n",
    "model.compile(optimizer='RMSprop', loss='binary_crossentropy', metrics=['accuracy'])  # Use binary_crossentropy loss for binary classification\n",
    "\n",
    "# Train the model\n",
    "history = model.fit(X_arr, y_arr, epochs=20, batch_size=32)"
   ]
  },
  {
   "cell_type": "code",
   "execution_count": 6,
   "metadata": {},
   "outputs": [
    {
     "name": "stdout",
     "output_type": "stream",
     "text": [
      "2/2 [==============================] - 1s 9ms/step\n",
      "10\n",
      "Accuracy: 0.65\n",
      "Precision: 0.7\n",
      "Recall: 0.28\n",
      "F1 Score: 0.4\n",
      "\n",
      "\n",
      "              precision    recall  f1-score   support\n",
      "\n",
      "     Class 0       0.64      0.91      0.75        35\n",
      "     Class 1       0.70      0.28      0.40        25\n",
      "\n",
      "    accuracy                           0.65        60\n",
      "   macro avg       0.67      0.60      0.58        60\n",
      "weighted avg       0.67      0.65      0.61        60\n",
      "\n"
     ]
    }
   ],
   "source": [
    "from sklearn.metrics import accuracy_score, precision_score, recall_score, f1_score, classification_report\n",
    "\n",
    "X_arr = np.array(X_test_seqs)\n",
    "predictions = model.predict(X_arr)\n",
    "binary_predictions = (predictions > 0.5).astype(int)\n",
    "# If your model outputs probabilities (e.g., if using sigmoid activation in the last layer), \n",
    "# you might need to threshold them to get binary predictions\n",
    "y_arr=y_test_labels\n",
    "        \n",
    "predictions=binary_predictions\n",
    "\n",
    "# Calculate metrics\n",
    "accuracy = accuracy_score(y_arr, predictions)\n",
    "precision = precision_score(y_arr, predictions)\n",
    "recall = recall_score(y_arr, predictions)\n",
    "f1 = f1_score(y_arr, predictions)\n",
    "\n",
    "# Print metrics\n",
    "\n",
    "print(f\"Accuracy: {accuracy}\")\n",
    "print(f\"Precision: {precision}\")\n",
    "print(f\"Recall: {recall}\")\n",
    "print(f\"F1 Score: {f1}\")\n",
    "\n",
    "# Assuming you have true labels (y_test) and predictions (binary_predictions) ready\n",
    "report = classification_report(y_arr, predictions, target_names=['Class 0', 'Class 1'])\n",
    "\n",
    "print(\"\\n\")\n",
    "print(report)"
   ]
  },
  {
   "cell_type": "code",
   "execution_count": null,
   "metadata": {},
   "outputs": [],
   "source": []
  }
 ],
 "metadata": {
  "kernelspec": {
   "display_name": "Python 3",
   "language": "python",
   "name": "python3"
  },
  "language_info": {
   "codemirror_mode": {
    "name": "ipython",
    "version": 3
   },
   "file_extension": ".py",
   "mimetype": "text/x-python",
   "name": "python",
   "nbconvert_exporter": "python",
   "pygments_lexer": "ipython3",
   "version": "3.11.5"
  }
 },
 "nbformat": 4,
 "nbformat_minor": 2
}
